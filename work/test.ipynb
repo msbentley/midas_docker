{
 "cells": [
  {
   "cell_type": "code",
   "execution_count": 1,
   "id": "complex-volleyball",
   "metadata": {},
   "outputs": [
    {
     "name": "stderr",
     "output_type": "stream",
     "text": [
      "/opt/conda/envs/midas/lib/python2.7/site-packages/midas/ros_tm.py:5414: FutureWarning: read_table is deprecated, use read_csv instead, passing sep='\\t'.\n",
      "  plf = pd.read_table(filename,header=None,names=cols,usecols=[0,1,2,3])\n",
      "/opt/conda/envs/midas/lib/python2.7/site-packages/midas/ros_tm.py:5387: FutureWarning: read_table is deprecated, use read_csv instead, passing sep='\\t'.\n",
      "  pid=pd.read_table(filename,header=None,names=cols,usecols=[0,1,2,3,5,6])\n",
      "/opt/conda/envs/midas/lib/python2.7/site-packages/midas/ros_tm.py:5402: FutureWarning: read_table is deprecated, use read_csv instead, passing sep='\\t'.\n",
      "  pcf = pd.read_table(filename,header=None,names=cols,usecols=[0,1,3,4,5,6,9,11,16], na_filter=True )\n",
      "/opt/conda/envs/midas/lib/python2.7/site-packages/midas/ros_tm.py:5427: FutureWarning: read_table is deprecated, use read_csv instead, passing sep='\\t'.\n",
      "  caf = pd.read_table(filename,header=None,names=cols,usecols=[0,1,2,3,4])\n",
      "/opt/conda/envs/midas/lib/python2.7/site-packages/midas/ros_tm.py:5456: FutureWarning: read_table is deprecated, use read_csv instead, passing sep='\\t'.\n",
      "  cap = pd.read_table(filename,header=None,names=cols,usecols=[0,1,2])\n",
      "/opt/conda/envs/midas/lib/python2.7/site-packages/midas/ros_tm.py:5481: FutureWarning: read_table is deprecated, use read_csv instead, passing sep='\\t'.\n",
      "  txf = pd.read_table(filename,header=None,names=cols,usecols=[0,1,2])\n",
      "/opt/conda/envs/midas/lib/python2.7/site-packages/midas/ros_tm.py:5495: FutureWarning: read_table is deprecated, use read_csv instead, passing sep='\\t'.\n",
      "  txp = pd.read_table(filename,header=None,names=cols)\n",
      "/opt/conda/envs/midas/lib/python2.7/site-packages/midas/ros_tm.py:5468: FutureWarning: read_table is deprecated, use read_csv instead, passing sep='\\t'.\n",
      "  mcf = pd.read_table(filename,header=None,names=cols)\n",
      "/opt/conda/envs/midas/lib/python2.7/site-packages/midas/ros_tm.py:5315: FutureWarning: read_table is deprecated, use read_csv instead, passing sep='\\t'.\n",
      "  ccf = pd.read_table(filename,header=None,names=cols,usecols=[0,1,6,7,8])\n",
      "/opt/conda/envs/midas/lib/python2.7/site-packages/midas/ros_tm.py:5329: FutureWarning: read_table is deprecated, use read_csv instead, passing sep='\\t'.\n",
      "  csf = pd.read_table(csf_file,header=None,names=cols,usecols=[0,1,7],na_filter=False)\n",
      "/opt/conda/envs/midas/lib/python2.7/site-packages/midas/ros_tm.py:5341: FutureWarning: read_table is deprecated, use read_csv instead, passing sep='\\t'.\n",
      "  csp = pd.read_table(csp_file,header=None,names=cols,usecols=range(0,16),na_filter=True,index_col=False)\n",
      "/opt/conda/envs/midas/lib/python2.7/site-packages/midas/ros_tm.py:5354: FutureWarning: read_table is deprecated, use read_csv instead, passing sep='\\t'.\n",
      "  css = pd.read_table(css_file,header=None,names=cols,usecols=[0,1,2,3,4,5,7,8,9],na_filter=True,index_col=False)\n",
      "/opt/conda/envs/midas/lib/python2.7/site-packages/midas/ros_tm.py:5441: FutureWarning: read_table is deprecated, use read_csv instead, passing sep='\\t'.\n",
      "  pic = pd.read_table(filename,header=None,names=cols,usecols=[0,1,2,3])\n",
      "/opt/conda/envs/midas/lib/python2.7/site-packages/midas/ros_tm.py:5367: FutureWarning: read_table is deprecated, use read_csv instead, passing sep='\\t'.\n",
      "  sdf = pd.read_table(sdf_file,header=None,names=cols,usecols=[0,1,2,4,6,7],na_filter=True,index_col=False)\n"
     ]
    }
   ],
   "source": [
    "from midas import *"
   ]
  },
  {
   "cell_type": "code",
   "execution_count": 2,
   "id": "acting-darkness",
   "metadata": {},
   "outputs": [],
   "source": [
    "import gwy"
   ]
  },
  {
   "cell_type": "code",
   "execution_count": null,
   "id": "current-smith",
   "metadata": {},
   "outputs": [],
   "source": []
  }
 ],
 "metadata": {
  "kernelspec": {
   "display_name": "midas",
   "language": "python",
   "name": "midas"
  },
  "language_info": {
   "codemirror_mode": {
    "name": "ipython",
    "version": 2
   },
   "file_extension": ".py",
   "mimetype": "text/x-python",
   "name": "python",
   "nbconvert_exporter": "python",
   "pygments_lexer": "ipython2",
   "version": "2.7.18"
  }
 },
 "nbformat": 4,
 "nbformat_minor": 5
}
